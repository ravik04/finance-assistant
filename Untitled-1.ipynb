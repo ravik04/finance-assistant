{
 "cells": [
  {
   "cell_type": "code",
   "execution_count": 1,
   "id": "a9987eae",
   "metadata": {},
   "outputs": [
    {
     "name": "stderr",
     "output_type": "stream",
     "text": [
      "INFO:root:Fetching RELIANCE.NS\n"
     ]
    },
    {
     "name": "stdout",
     "output_type": "stream",
     "text": [
      "{'RELIANCE.NS': {'today': np.float64(1424.2)}}\n"
     ]
    }
   ],
   "source": [
    "from api_agent import get_tech_stock_data\n",
    "\n",
    "if __name__ == \"__main__\":\n",
    "    tickers = ['RELIANCE.NS']\n",
    "    print(get_tech_stock_data(tickers))"
   ]
  },
  {
   "cell_type": "code",
   "execution_count": null,
   "id": "47b536d8",
   "metadata": {},
   "outputs": [],
   "source": []
  }
 ],
 "metadata": {
  "kernelspec": {
   "display_name": "Python 3",
   "language": "python",
   "name": "python3"
  },
  "language_info": {
   "codemirror_mode": {
    "name": "ipython",
    "version": 3
   },
   "file_extension": ".py",
   "mimetype": "text/x-python",
   "name": "python",
   "nbconvert_exporter": "python",
   "pygments_lexer": "ipython3",
   "version": "3.10.11"
  }
 },
 "nbformat": 4,
 "nbformat_minor": 5
}
